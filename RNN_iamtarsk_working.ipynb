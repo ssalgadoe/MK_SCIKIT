{
 "cells": [
  {
   "cell_type": "code",
   "execution_count": 1,
   "metadata": {
    "collapsed": true
   },
   "outputs": [],
   "source": [
    "import numpy as np"
   ]
  },
  {
   "cell_type": "code",
   "execution_count": 100,
   "metadata": {
    "collapsed": false
   },
   "outputs": [],
   "source": [
    "class RNN():\n",
    "    def __init__(self,layers,data,bit_size, sample_size, epoch,alpha):\n",
    "        self.nr_layers = len(layers)\n",
    "        self.iLayer_size = layers[0]\n",
    "        self.oLayer_size = layers[2]\n",
    "        self.hLayer_size = layers[1]\n",
    "        self.bit_size = bit_size\n",
    "        self.sample_size = sample_size\n",
    "        self.alpha = alpha\n",
    "        self.epoch = epoch\n",
    "        \n",
    "        \n",
    "        \n",
    "        self.iSynopse = np.random.randn(self.iLayer_size,self.hLayer_size)\n",
    "        self.hSynopse = np.random.randn(self.hLayer_size,self.hLayer_size)\n",
    "        self.oSynopse = np.random.randn(self.hLayer_size,self.oLayer_size)\n",
    "        \n",
    "        \n",
    "    \n",
    "    def display(self, mode):\n",
    "        if mode=='i':\n",
    "            print('iSynopose: {0} '.format(self.iSynopse))\n",
    "        elif mode=='h':      \n",
    "            print('hSynopose: {0} '.format(self.hSynopse))\n",
    "        elif mode=='o':\n",
    "            print('oSynopose: {0} '.format(self.oSynopse))\n",
    "        else:    \n",
    "            print('iLayer_size: {0} hLayer_size {1} oLayer_size {2} '.format(self.iLayer_size,self.hLayer_size, self.oLayer_size) )\n",
    "\n",
    "            \n",
    "    def rnn_process(self):\n",
    "        for epoch in range(self.epoch):\n",
    "            total_cost = 0.\n",
    "            for sample in range(len(data)):\n",
    "                a,b,c =data[sample]\n",
    "                X = [[a_,b_] for a_,b_ in zip(a,b)]\n",
    "                Y = c\n",
    "                iSynopse_update = np.zeros_like(self.iSynopse)\n",
    "                hSynopse_update = np.zeros_like(self.hSynopse)\n",
    "                oSynopse_update = np.zeros_like(self.oSynopse)\n",
    "\n",
    "\n",
    "                hActivations = []\n",
    "                oActivations = []\n",
    "                iActivations = []\n",
    "                oResult = []\n",
    "                hactivation = np.zeros(self.hLayer_size)\n",
    "                oactivation = np.zeros(self.oLayer_size)\n",
    "                cost = np.zeros(self.oLayer_size)\n",
    "                prev_hactivation = np.atleast_2d(np.zeros(self.hLayer_size))\n",
    "                temp_cost = 0.\n",
    "                for i in range(self.bit_size):\n",
    "                    x = X[-i-1]\n",
    "                    y = Y[-i-1]\n",
    "                    hactivation = sigmoid(np.dot(np.atleast_2d(x),self.iSynopse) + np.dot(prev_hactivation, self.hSynopse))\n",
    "                    #print(prev_hactivation.shape, self.hSynopse.shape, hactivation)\n",
    "                    hActivations.append(hactivation)\n",
    "                    oactivation = sigmoid(np.dot(hactivation,self.oSynopse))\n",
    "                    \n",
    "                    oActivations.append(oactivation)\n",
    "                    iActivations.append(x)\n",
    "                    oResult.append(y)\n",
    "                    prev_hactivation = hactivation\n",
    "                    answer = np.heaviside(oactivation, 0.5)\n",
    "                    cost = np.abs(y-oactivation)\n",
    "                    #print('y:', y, 'calculation:', answer,'cost', cost)\n",
    "                    temp_cost += cost\n",
    "                total_cost+=temp_cost/self.bit_size \n",
    "                #print('tot', total_cost)\n",
    "                o_deltas = []\n",
    "                h_deltas = []\n",
    "                future_h_delta = np.atleast_2d(np.zeros(self.hLayer_size))\n",
    "                \n",
    "                #print(future_delta.shape)\n",
    "                for i in range(1,self.bit_size+1):\n",
    "                    o_delta = (oResult[-i]-oActivations[-i])*sigmoid_der(oActivations[-i])\n",
    "                    o_deltas.append(o_delta)\n",
    "                    #print(cost_delta.shape,self.oSynopse.shape)\n",
    "                    h1_delta = np.dot(o_delta, self.oSynopse.T)*sigmoid_der(hActivations[-i])\n",
    "                    h2_delta = np.dot(future_h_delta, self.hSynopse.T)*sigmoid_der(hActivations[-i])\n",
    "                    h_delta = h1_delta + h2_delta\n",
    "                    h_deltas.append(h_delta)\n",
    "\n",
    "                    iSynopse_update += np.dot(np.atleast_2d(iActivations[-i]).T, h_delta)\n",
    "                    hSynopse_update += np.dot(np.atleast_2d(hActivations[-i]).T, future_h_delta)\n",
    "                    oSynopse_update += np.dot(np.atleast_2d(hActivations[-i]).T, o_delta)\n",
    "\n",
    "                    future_h_delta = h_delta\n",
    "\n",
    "                #self.iSynopse +=self.alpha*iSynopse_update/self.bit_size\n",
    "                #self.hSynopse +=self.alpha*hSynopse_update/self.bit_size\n",
    "                #self.oSynopse +=self.alpha*oSynopse_update/self.bit_size\n",
    "\n",
    "                self.iSynopse +=self.alpha*iSynopse_update\n",
    "                self.hSynopse +=self.alpha*hSynopse_update\n",
    "                self.oSynopse +=self.alpha*oSynopse_update\n",
    "                \n",
    "                \n",
    "            print('average cost for the epoch {0} is {1}'.format(epoch, total_cost/self.sample_size))    \n",
    "            if (epoch%100==0):\n",
    "                print('average cost for the epoch {0} is {1}'.format(epoch, total_cost/self.sample_size))\n",
    "        \n",
    "        #print(self.iSynopse.shape, self.iSynopse)\n",
    "        \n",
    "\n",
    "            \n",
    "def sigmoid(z): return (1/(1+np.exp(-z)))\n",
    "def sigmoid_der(z): return (sigmoid(z)*(1-sigmoid(z)))\n",
    "#def sigmoid_der(z): return (z*(1-z))\n",
    "\n",
    "    \n",
    "    "
   ]
  },
  {
   "cell_type": "code",
   "execution_count": 119,
   "metadata": {
    "collapsed": false
   },
   "outputs": [],
   "source": [
    "bit_size = 8\n",
    "sample_size = 10\n",
    "epoch = 100\n",
    "alpha = 0.01\n",
    "max_number = np.power(2,bit_size)\n",
    "a = np.array([[np.random.randint(max_number/2)] for i in range(sample_size)], dtype=np.uint8)\n",
    "a_bits = np.unpackbits(a,axis=1)\n",
    "\n",
    "b = np.array([[np.random.randint(max_number/2)] for i in range(sample_size)], dtype=np.uint8)\n",
    "b_bits = np.unpackbits(b,axis=1)\n",
    "\n",
    "\n",
    "c = a+b\n",
    "c_bits = np.unpackbits(c,axis=1)\n",
    "d = np.packbits(c_bits)\n",
    "\n",
    "data = [[a_,b_,c_] for a_, b_, c_ in zip(a_bits,b_bits,c_bits)]\n",
    "\n",
    "#print(a,a_bits, b,b_bits, c_bits)"
   ]
  },
  {
   "cell_type": "code",
   "execution_count": 120,
   "metadata": {
    "collapsed": false
   },
   "outputs": [],
   "source": [
    "rnn = RNN([2,3,1],data, bit_size, sample_size, epoch, alpha)"
   ]
  },
  {
   "cell_type": "code",
   "execution_count": 121,
   "metadata": {
    "collapsed": false
   },
   "outputs": [
    {
     "name": "stdout",
     "output_type": "stream",
     "text": [
      "average cost for the epoch 0 is [[0.50353559]]\n",
      "average cost for the epoch 0 is [[0.50353559]]\n",
      "average cost for the epoch 1 is [[0.5033499]]\n",
      "average cost for the epoch 2 is [[0.50316795]]\n",
      "average cost for the epoch 3 is [[0.50298967]]\n",
      "average cost for the epoch 4 is [[0.50281497]]\n",
      "average cost for the epoch 5 is [[0.5026438]]\n",
      "average cost for the epoch 6 is [[0.50247606]]\n",
      "average cost for the epoch 7 is [[0.5023117]]\n",
      "average cost for the epoch 8 is [[0.50215064]]\n",
      "average cost for the epoch 9 is [[0.50199281]]\n",
      "average cost for the epoch 10 is [[0.50183815]]\n",
      "average cost for the epoch 11 is [[0.50168659]]\n",
      "average cost for the epoch 12 is [[0.50153806]]\n",
      "average cost for the epoch 13 is [[0.5013925]]\n",
      "average cost for the epoch 14 is [[0.50124986]]\n",
      "average cost for the epoch 15 is [[0.50111006]]\n",
      "average cost for the epoch 16 is [[0.50097305]]\n",
      "average cost for the epoch 17 is [[0.50083876]]\n",
      "average cost for the epoch 18 is [[0.50070715]]\n",
      "average cost for the epoch 19 is [[0.50057816]]\n",
      "average cost for the epoch 20 is [[0.50045173]]\n",
      "average cost for the epoch 21 is [[0.5003278]]\n",
      "average cost for the epoch 22 is [[0.50020632]]\n",
      "average cost for the epoch 23 is [[0.50008725]]\n",
      "average cost for the epoch 24 is [[0.49997053]]\n",
      "average cost for the epoch 25 is [[0.49985611]]\n",
      "average cost for the epoch 26 is [[0.49974394]]\n",
      "average cost for the epoch 27 is [[0.49963397]]\n",
      "average cost for the epoch 28 is [[0.49952616]]\n",
      "average cost for the epoch 29 is [[0.49942047]]\n",
      "average cost for the epoch 30 is [[0.49931684]]\n",
      "average cost for the epoch 31 is [[0.49921523]]\n",
      "average cost for the epoch 32 is [[0.4991156]]\n",
      "average cost for the epoch 33 is [[0.49901791]]\n",
      "average cost for the epoch 34 is [[0.49892212]]\n",
      "average cost for the epoch 35 is [[0.49882818]]\n",
      "average cost for the epoch 36 is [[0.49873605]]\n",
      "average cost for the epoch 37 is [[0.49864571]]\n",
      "average cost for the epoch 38 is [[0.4985571]]\n",
      "average cost for the epoch 39 is [[0.4984702]]\n",
      "average cost for the epoch 40 is [[0.49838496]]\n",
      "average cost for the epoch 41 is [[0.49830135]]\n",
      "average cost for the epoch 42 is [[0.49821933]]\n",
      "average cost for the epoch 43 is [[0.49813888]]\n",
      "average cost for the epoch 44 is [[0.49805996]]\n",
      "average cost for the epoch 45 is [[0.49798253]]\n",
      "average cost for the epoch 46 is [[0.49790656]]\n",
      "average cost for the epoch 47 is [[0.49783203]]\n",
      "average cost for the epoch 48 is [[0.4977589]]\n",
      "average cost for the epoch 49 is [[0.49768713]]\n",
      "average cost for the epoch 50 is [[0.49761672]]\n",
      "average cost for the epoch 51 is [[0.49754761]]\n",
      "average cost for the epoch 52 is [[0.49747979]]\n",
      "average cost for the epoch 53 is [[0.49741323]]\n",
      "average cost for the epoch 54 is [[0.49734789]]\n",
      "average cost for the epoch 55 is [[0.49728377]]\n",
      "average cost for the epoch 56 is [[0.49722082]]\n",
      "average cost for the epoch 57 is [[0.49715902]]\n",
      "average cost for the epoch 58 is [[0.49709836]]\n",
      "average cost for the epoch 59 is [[0.4970388]]\n",
      "average cost for the epoch 60 is [[0.49698032]]\n",
      "average cost for the epoch 61 is [[0.49692289]]\n",
      "average cost for the epoch 62 is [[0.49686651]]\n",
      "average cost for the epoch 63 is [[0.49681114]]\n",
      "average cost for the epoch 64 is [[0.49675675]]\n",
      "average cost for the epoch 65 is [[0.49670334]]\n",
      "average cost for the epoch 66 is [[0.49665089]]\n",
      "average cost for the epoch 67 is [[0.49659936]]\n",
      "average cost for the epoch 68 is [[0.49654874]]\n",
      "average cost for the epoch 69 is [[0.49649901]]\n",
      "average cost for the epoch 70 is [[0.49645015]]\n",
      "average cost for the epoch 71 is [[0.49640215]]\n",
      "average cost for the epoch 72 is [[0.49635498]]\n",
      "average cost for the epoch 73 is [[0.49630862]]\n",
      "average cost for the epoch 74 is [[0.49626307]]\n",
      "average cost for the epoch 75 is [[0.4962183]]\n",
      "average cost for the epoch 76 is [[0.4961743]]\n",
      "average cost for the epoch 77 is [[0.49613105]]\n",
      "average cost for the epoch 78 is [[0.49608853]]\n",
      "average cost for the epoch 79 is [[0.49604673]]\n",
      "average cost for the epoch 80 is [[0.49600564]]\n",
      "average cost for the epoch 81 is [[0.49596523]]\n",
      "average cost for the epoch 82 is [[0.4959255]]\n",
      "average cost for the epoch 83 is [[0.49588643]]\n",
      "average cost for the epoch 84 is [[0.495848]]\n",
      "average cost for the epoch 85 is [[0.49581021]]\n",
      "average cost for the epoch 86 is [[0.49577304]]\n",
      "average cost for the epoch 87 is [[0.49573647]]\n",
      "average cost for the epoch 88 is [[0.49570049]]\n",
      "average cost for the epoch 89 is [[0.4956651]]\n",
      "average cost for the epoch 90 is [[0.49563027]]\n",
      "average cost for the epoch 91 is [[0.49559601]]\n",
      "average cost for the epoch 92 is [[0.49556228]]\n",
      "average cost for the epoch 93 is [[0.49552909]]\n",
      "average cost for the epoch 94 is [[0.49549643]]\n",
      "average cost for the epoch 95 is [[0.49546427]]\n",
      "average cost for the epoch 96 is [[0.49543262]]\n",
      "average cost for the epoch 97 is [[0.49540146]]\n",
      "average cost for the epoch 98 is [[0.49537077]]\n",
      "average cost for the epoch 99 is [[0.49534056]]\n"
     ]
    }
   ],
   "source": [
    "rnn.rnn_process()"
   ]
  },
  {
   "cell_type": "code",
   "execution_count": 93,
   "metadata": {
    "collapsed": false
   },
   "outputs": [
    {
     "data": {
      "text/plain": [
       "[array([0, 1, 1, 1, 0, 0, 0, 1], dtype=uint8),\n",
       " array([0, 0, 1, 1, 0, 1, 0, 0], dtype=uint8),\n",
       " array([1, 0, 1, 0, 0, 1, 0, 1], dtype=uint8)]"
      ]
     },
     "execution_count": 93,
     "metadata": {},
     "output_type": "execute_result"
    }
   ],
   "source": [
    "data[0]"
   ]
  },
  {
   "cell_type": "code",
   "execution_count": null,
   "metadata": {
    "collapsed": false
   },
   "outputs": [],
   "source": [
    "np.sum([[1],[2],[3]])"
   ]
  },
  {
   "cell_type": "code",
   "execution_count": null,
   "metadata": {
    "collapsed": false
   },
   "outputs": [],
   "source": []
  },
  {
   "cell_type": "code",
   "execution_count": null,
   "metadata": {
    "collapsed": true
   },
   "outputs": [],
   "source": []
  }
 ],
 "metadata": {
  "anaconda-cloud": {},
  "kernelspec": {
   "display_name": "Python [Root]",
   "language": "python",
   "name": "Python [Root]"
  },
  "language_info": {
   "codemirror_mode": {
    "name": "ipython",
    "version": 3
   },
   "file_extension": ".py",
   "mimetype": "text/x-python",
   "name": "python",
   "nbconvert_exporter": "python",
   "pygments_lexer": "ipython3",
   "version": "3.5.1"
  }
 },
 "nbformat": 4,
 "nbformat_minor": 0
}

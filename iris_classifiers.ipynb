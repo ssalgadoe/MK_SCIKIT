{
 "cells": [
  {
   "cell_type": "code",
   "execution_count": 1,
   "metadata": {
    "collapsed": true
   },
   "outputs": [],
   "source": [
    "import numpy as np\n",
    "from sklearn import preprocessing, svm, neighbors\n",
    "from sklearn import datasets\n",
    "from sklearn.utils import shuffle\n",
    "import matplotlib.pyplot as plt\n",
    "from mpl_toolkits.mplot3d import Axes3D\n",
    "from sklearn.decomposition import PCA"
   ]
  },
  {
   "cell_type": "code",
   "execution_count": 2,
   "metadata": {
    "collapsed": false
   },
   "outputs": [
    {
     "data": {
      "text/plain": [
       "SVC(C=1.0, cache_size=200, class_weight=None, coef0=0.0,\n",
       "  decision_function_shape=None, degree=3, gamma='auto', kernel='rbf',\n",
       "  max_iter=-1, probability=False, random_state=None, shrinking=True,\n",
       "  tol=0.001, verbose=False)"
      ]
     },
     "execution_count": 2,
     "metadata": {},
     "output_type": "execute_result"
    }
   ],
   "source": [
    "data = datasets.load_iris()\n",
    "ratio = 0.90\n",
    "threshold = int(ratio * len(data.data))\n",
    "X = data.data[:threshold,:4]\n",
    "y = data.target[:threshold]\n",
    "test_data = data.data[threshold:,:4]\n",
    "test_target = data.target[threshold:]\n",
    "\n",
    "clf = svm.SVC()\n",
    "clf.fit(X,y)"
   ]
  },
  {
   "cell_type": "code",
   "execution_count": 3,
   "metadata": {
    "collapsed": false
   },
   "outputs": [],
   "source": [
    "data.data;"
   ]
  },
  {
   "cell_type": "code",
   "execution_count": 4,
   "metadata": {
    "collapsed": false
   },
   "outputs": [],
   "source": [
    "result =clf.predict(test_data)"
   ]
  },
  {
   "cell_type": "code",
   "execution_count": 5,
   "metadata": {
    "collapsed": false
   },
   "outputs": [
    {
     "name": "stdout",
     "output_type": "stream",
     "text": [
      "0.9333333333333333\n"
     ]
    }
   ],
   "source": [
    "correct = 0\n",
    "for i,r in enumerate(result):\n",
    "    if r == test_target[i]:\n",
    "        correct +=1\n",
    "    \n",
    "print(correct/len(result))    "
   ]
  },
  {
   "cell_type": "code",
   "execution_count": 6,
   "metadata": {
    "collapsed": false
   },
   "outputs": [
    {
     "data": {
      "text/plain": [
       "['sepal length (cm)',\n",
       " 'sepal width (cm)',\n",
       " 'petal length (cm)',\n",
       " 'petal width (cm)']"
      ]
     },
     "execution_count": 6,
     "metadata": {},
     "output_type": "execute_result"
    }
   ],
   "source": [
    "data.feature_names"
   ]
  },
  {
   "cell_type": "code",
   "execution_count": 7,
   "metadata": {
    "collapsed": false
   },
   "outputs": [],
   "source": [
    "x_min, x_max = X[:,0].min(), X[:,0].max()\n",
    "y_min, y_max = X[:,1].min(), X[:,1].max()\n"
   ]
  },
  {
   "cell_type": "code",
   "execution_count": 8,
   "metadata": {
    "collapsed": false
   },
   "outputs": [],
   "source": [
    "fig, axes = plt.subplots(nrows=3, ncols=2)\n",
    "\n",
    "axes[0,0].scatter(X[:,0],X[:,1], c=y)\n",
    "axes[0,0].set_xlabel(data.feature_names[0])\n",
    "axes[0,0].set_ylabel(data.feature_names[1])\n",
    "\n",
    "axes[0,1].scatter(X[:,0],X[:,2], c=y)\n",
    "axes[0,1].set_xlabel(data.feature_names[0])\n",
    "axes[0,1].set_ylabel(data.feature_names[2])\n",
    "\n",
    "axes[1,0].scatter(X[:,0],X[:,3], c=y)\n",
    "axes[1,0].set_xlabel(data.feature_names[0])\n",
    "axes[1,0].set_ylabel(data.feature_names[3])\n",
    "\n",
    "axes[1,1].scatter(X[:,1],X[:,2], c=y)\n",
    "axes[1,1].set_xlabel(data.feature_names[1])\n",
    "axes[1,1].set_ylabel(data.feature_names[2])\n",
    "\n",
    "axes[2,0].scatter(X[:,1],X[:,3], c=y)\n",
    "axes[2,0].set_xlabel(data.feature_names[1])\n",
    "axes[2,0].set_ylabel(data.feature_names[3])\n",
    "\n",
    "\n",
    "axes[2,1].scatter(X[:,2],X[:,3], c=y)\n",
    "axes[2,1].set_xlabel(data.feature_names[2])\n",
    "axes[2,1].set_ylabel(data.feature_names[3])\n",
    "\n",
    "\n",
    "\n",
    "ax = Axes3D(fig, elev=-150, azim=110)\n",
    "#X_reduced = PCA(n_components=3).fit.transform(data.data)\n",
    "#pca = PCA(n_components=3)\n",
    "#pca.fit(X)\n",
    "#X = pca.transform(X)\n",
    "\n",
    "ax.scatter(X[:,0],X[:,1],X[:,2], c=y)\n",
    "\n",
    "plt.show()"
   ]
  },
  {
   "cell_type": "code",
   "execution_count": 64,
   "metadata": {
    "collapsed": true
   },
   "outputs": [],
   "source": [
    "import numpy as np\n",
    "import pandas as pd\n",
    "from sklearn import svm, neighbors\n",
    "from sklearn.model_selection import train_test_split\n",
    "\n",
    "df = pd.read_csv('../data_sets/creditcard_sample.csv')\n",
    "\n",
    "data = np.array(df)\n",
    "\n",
    "X = data[:,:-1]\n",
    "y = data[:,-1]\n",
    "\n",
    "train_x, train_y, test_x, test_y = train_test_split(X,y, test_size=0.8)\n"
   ]
  },
  {
   "cell_type": "code",
   "execution_count": 65,
   "metadata": {
    "collapsed": false
   },
   "outputs": [
    {
     "data": {
      "text/plain": [
       "(199, 30)"
      ]
     },
     "execution_count": 65,
     "metadata": {},
     "output_type": "execute_result"
    }
   ],
   "source": [
    "train_x.shape"
   ]
  },
  {
   "cell_type": "code",
   "execution_count": 66,
   "metadata": {
    "collapsed": false
   },
   "outputs": [
    {
     "data": {
      "text/plain": [
       "(800, 30)"
      ]
     },
     "execution_count": 66,
     "metadata": {},
     "output_type": "execute_result"
    }
   ],
   "source": [
    "train_y.shape"
   ]
  },
  {
   "cell_type": "code",
   "execution_count": null,
   "metadata": {
    "collapsed": true
   },
   "outputs": [],
   "source": []
  }
 ],
 "metadata": {
  "anaconda-cloud": {},
  "kernelspec": {
   "display_name": "Python [Root]",
   "language": "python",
   "name": "Python [Root]"
  },
  "language_info": {
   "codemirror_mode": {
    "name": "ipython",
    "version": 3
   },
   "file_extension": ".py",
   "mimetype": "text/x-python",
   "name": "python",
   "nbconvert_exporter": "python",
   "pygments_lexer": "ipython3",
   "version": "3.5.1"
  }
 },
 "nbformat": 4,
 "nbformat_minor": 0
}
